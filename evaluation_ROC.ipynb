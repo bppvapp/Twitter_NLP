{
 "cells": [
  {
   "cell_type": "code",
   "execution_count": 1,
   "metadata": {},
   "outputs": [
    {
     "name": "stderr",
     "output_type": "stream",
     "text": [
      "WARNING: Logging before flag parsing goes to stderr.\n",
      "W0617 13:54:43.154911 48668 deprecation_wrapper.py:119] From C:\\Users\\yanpe\\Desktop\\NLP_paper\\CNN_NLP\\CNN.py:24: The name tf.truncated_normal is deprecated. Please use tf.random.truncated_normal instead.\n",
      "\n",
      "W0617 13:54:43.166857 48668 deprecation_wrapper.py:119] From C:\\Users\\yanpe\\Desktop\\NLP_paper\\CNN_NLP\\CNN.py:31: The name tf.nn.max_pool is deprecated. Please use tf.nn.max_pool2d instead.\n",
      "\n",
      "W0617 13:54:43.211770 48668 deprecation_wrapper.py:119] From C:\\Users\\yanpe\\Desktop\\NLP_paper\\CNN_NLP\\CNN.py:56: The name tf.get_variable is deprecated. Please use tf.compat.v1.get_variable instead.\n",
      "\n",
      "W0617 13:54:47.900381 48668 lazy_loader.py:50] \n",
      "The TensorFlow contrib module will not be included in TensorFlow 2.0.\n",
      "For more information, please see:\n",
      "  * https://github.com/tensorflow/community/blob/master/rfcs/20180907-contrib-sunset.md\n",
      "  * https://github.com/tensorflow/addons\n",
      "  * https://github.com/tensorflow/io (for I/O related ops)\n",
      "If you depend on functionality not listed there, please file an issue.\n",
      "\n",
      "W0617 13:54:47.908359 48668 deprecation_wrapper.py:119] From C:\\Users\\yanpe\\Desktop\\NLP_paper\\CNN_NLP\\CNN.py:59: The name tf.nn.xw_plus_b is deprecated. Please use tf.compat.v1.nn.xw_plus_b instead.\n",
      "\n",
      "W0617 13:54:47.912349 48668 deprecation.py:506] From C:\\Users\\yanpe\\Desktop\\NLP_paper\\CNN_NLP\\CNN.py:65: calling weighted_cross_entropy_with_logits (from tensorflow.python.ops.nn_impl) with targets is deprecated and will be removed in a future version.\n",
      "Instructions for updating:\n",
      "targets is deprecated, use labels instead\n"
     ]
    },
    {
     "name": "stdout",
     "output_type": "stream",
     "text": [
      "CNN architecture loaded!\n"
     ]
    }
   ],
   "source": [
    "import tensorflow as tf\n",
    "import numpy as np\n",
    "from CNN import get_cnn\n",
    "import os\n",
    "import time\n",
    "import datetime\n",
    "import pickle\n",
    "import csv\n",
    "import gensim\n",
    "from sklearn.metrics import roc_curve, auc\n",
    "import matplotlib.pyplot as plt\n",
    "\n",
    "K = 400 # word2vec embedding dimension\n",
    "L = 50 # 50 words limit for each sentence\n",
    "NUM_CLASSES = 2\n",
    "\n",
    "# Load CNN architecture\n",
    "tf.reset_default_graph()\n",
    "\n",
    "_x = tf.placeholder(tf.float32, [None, L, K], name='input_x')\n",
    "_y = tf.placeholder(tf.float32, [None, NUM_CLASSES], name='input_y')\n",
    "\n",
    "\n",
    "scores, predictions, loss, accuracy = get_cnn(_x, _y, 0)\n",
    "\n",
    "print('CNN architecture loaded!')\n",
    "\n",
    "\n",
    "MODEL_PATH = '../word2vec_twitter_model.bin'\n"
   ]
  },
  {
   "cell_type": "markdown",
   "metadata": {},
   "source": [
    "## Load word2vec model"
   ]
  },
  {
   "cell_type": "code",
   "execution_count": 2,
   "metadata": {},
   "outputs": [
    {
     "name": "stdout",
     "output_type": "stream",
     "text": [
      "W2V loaded!\n"
     ]
    }
   ],
   "source": [
    "w2v_model = gensim.models.KeyedVectors.load_word2vec_format(MODEL_PATH, binary=True, limit=3000000)\n",
    "#w2v_model = gensim.models.KeyedVectors.load_word2vec_format(MODEL_PATH, binary=True, limit=300000)\n",
    "print('W2V loaded!')"
   ]
  },
  {
   "cell_type": "markdown",
   "metadata": {},
   "source": [
    "## Load and preprocess testing dataset"
   ]
  },
  {
   "cell_type": "code",
   "execution_count": 3,
   "metadata": {},
   "outputs": [
    {
     "name": "stdout",
     "output_type": "stream",
     "text": [
      "Training dataset loaded\n",
      "Number of tweets in training dataset:  1040\n",
      "Data Preprocessed!\n"
     ]
    }
   ],
   "source": [
    "''' load training dataset '''\n",
    "TEST_DATA_PATH = 'dataset/test_set-actual-pure.csv' # the path of testing data\n",
    "\n",
    "TWEETS_LIST = []\n",
    "LABEL_LIST = []\n",
    "with open(TEST_DATA_PATH, newline='') as csvfile:\n",
    "    csvreader = list(csv.reader(csvfile, delimiter=','))\n",
    "    for row in csvreader[1:]:\n",
    "        TWEETS_LIST.append(row[2]) # the third row is the original text\n",
    "        #TWEETS_LIST.append(row[1]) # the second row is the modified text\n",
    "\n",
    "        if row[3] == '0':\n",
    "            ''' Negative '''\n",
    "            LABEL_LIST.append([1,0])\n",
    "        else:\n",
    "            ''' Positive '''\n",
    "            LABEL_LIST.append([0,1])\n",
    "print('Training dataset loaded')\n",
    "print('Number of tweets in training dataset: ',len(TWEETS_LIST))\n",
    "\n",
    "''' preprocess data '''\n",
    "x_test = []\n",
    "for tweet in TWEETS_LIST:\n",
    "    tmp = []\n",
    "    for word in tweet.split(' '):\n",
    "        try:\n",
    "            tmp.append(w2v_model[word]) # find word from W2V\n",
    "        except:\n",
    "            ''' OOV word '''\n",
    "            tmp.append(np.random.uniform(-0.5,0.5,K)) # random vector range:(-0.5, 0.5)\n",
    "        if len(tmp) == L:\n",
    "            break # 50 words limit!!\n",
    "    while len(tmp) < L:\n",
    "        ''' pad with zero vectors if less than 50 words '''\n",
    "        tmp.append(np.zeros(K)) \n",
    "    x_test.append(np.array(tmp))\n",
    "x_test = np.array(x_test)\n",
    "y_test = np.array(LABEL_LIST)\n",
    "\n",
    "''' Random shuffle the data '''\n",
    "np.random.seed(10)\n",
    "shuffle_indices = np.random.permutation(np.arange(len(x_test)))\n",
    "x_test = x_test[shuffle_indices]\n",
    "y_test = y_test[shuffle_indices]\n",
    "\n",
    "print('Data Preprocessed!')"
   ]
  },
  {
   "cell_type": "markdown",
   "metadata": {},
   "source": [
    "# Make predictions"
   ]
  },
  {
   "cell_type": "code",
   "execution_count": 4,
   "metadata": {},
   "outputs": [],
   "source": [
    "def precision(TP, FP):\n",
    "    return TP.sum()/(TP.sum() + FP.sum())\n",
    "    \n",
    "def recall(TP, FN):\n",
    "    return TP.sum()/(TP.sum() + FN.sum())\n",
    "\n",
    "def F1(TP, FP, FN):\n",
    "    p = precision(TP, FP)\n",
    "    r = recall(TP, FN)\n",
    "    return 2*(p*r)/(p+r)\n",
    "\n",
    "def acc(TP,TN,FP,FN):\n",
    "    return (TP.sum()+TN.sum())/(TP.sum()+TN.sum()+FP.sum()+FN.sum())\n",
    "\n",
    "def significant_test(pred, y_test):\n",
    "    TP = np.zeros(len(pred)) # true positive\n",
    "    TN = np.zeros(len(pred)) # true negative\n",
    "    FP = np.zeros(len(pred)) # false positive\n",
    "    FN = np.zeros(len(pred)) # false negative\n",
    "    try:\n",
    "        for i in range(len(pred)):\n",
    "            if pred[i] == y_test[i,1] and y_test[i,1] == 1:\n",
    "                TP[i] = 1\n",
    "            elif pred[i] == y_test[i,1] and y_test[i,1] == 0:\n",
    "                TN[i] = 1\n",
    "            elif pred[i] != y_test[i,1] and y_test[i,1] == 1:\n",
    "                FP[i] = 1\n",
    "            elif pred[i] != y_test[i,1] and y_test[i,1] == 0:\n",
    "                FN[i] = 1\n",
    "    except:\n",
    "        for i in range(len(pred)):\n",
    "            if pred[i] == y_test[i] and y_test[i] == 1:\n",
    "                TP[i] = 1\n",
    "            elif pred[i] == y_test[i] and y_test[i] == 0:\n",
    "                TN[i] = 1\n",
    "            elif pred[i] != y_test[i] and y_test[i] == 1:\n",
    "                FP[i] = 1\n",
    "            elif pred[i] != y_test[i] and y_test[i] == 0:\n",
    "                FN[i] = 1\n",
    "    return TP,TN,FP,FN"
   ]
  },
  {
   "cell_type": "markdown",
   "metadata": {},
   "source": [
    "## Important!  If you have a very big testing dataset, don't feed it into the network all at once!!\n",
    "## pred is the list of binary labels, e.g., [0,1,0,0,0,0,1,1,1, ... ,0,1,0,0]"
   ]
  },
  {
   "cell_type": "code",
   "execution_count": 5,
   "metadata": {},
   "outputs": [
    {
     "name": "stderr",
     "output_type": "stream",
     "text": [
      "W0617 15:09:36.438174 48668 deprecation.py:323] From C:\\Users\\yanpe\\AppData\\Local\\Programs\\Python\\Python36\\lib\\site-packages\\tensorflow\\python\\training\\saver.py:1276: checkpoint_exists (from tensorflow.python.training.checkpoint_management) is deprecated and will be removed in a future version.\n",
      "Instructions for updating:\n",
      "Use standard file APIs to check for files with this prefix.\n"
     ]
    },
    {
     "name": "stdout",
     "output_type": "stream",
     "text": [
      "Accuracy:  0.82403845\n",
      "Precision:  0.8986866791744841\n",
      "Recall:  0.787828947368421\n",
      "F1:  0.8396143733567046\n",
      "Accuracy:  0.8240384615384615\n"
     ]
    }
   ],
   "source": [
    "sess = tf.Session(config=tf.ConfigProto(device_count = {'GPU': 0}))\n",
    "# Load parameters\n",
    "saver = tf.train.Saver()\n",
    "saver.restore(sess, 'saved_model-best/model.ckpt')\n",
    "scor, pred, accu = sess.run([scores, predictions, accuracy], feed_dict={_x: x_test, _y: y_test})\n",
    "print('Accuracy: ', accu)\n",
    "TP,TN,FP,FN = significant_test(pred, y_test)\n",
    "print(\"Precision: \", precision(TP,FP))\n",
    "print(\"Recall: \", recall(TP, FN))\n",
    "print(\"F1: \", F1(TP, FP, FN))\n",
    "print(\"Accuracy: \",acc(TP,TN,FP,FN))"
   ]
  },
  {
   "cell_type": "code",
   "execution_count": null,
   "metadata": {},
   "outputs": [],
   "source": []
  },
  {
   "cell_type": "markdown",
   "metadata": {},
   "source": [
    "# Plot ROC Curve (CNN trained on original+synthetic dataset)"
   ]
  },
  {
   "cell_type": "code",
   "execution_count": 6,
   "metadata": {},
   "outputs": [
    {
     "data": {
      "image/png": "[encoded data removed]",
      "text/plain": [
       "<Figure size 432x288 with 1 Axes>"
      ]
     },
     "metadata": {
      "needs_background": "light"
     },
     "output_type": "display_data"
    }
   ],
   "source": [
    "def sigmoid(x):\n",
    "    return 1/(1+np.exp(-x))\n",
    "\n",
    "positive_scores = np.zeros(len(scor))\n",
    "for i in range(len(scor)):\n",
    "    positive_scores[i] = sigmoid(scor[i][1] - scor[i][0])\n",
    "    \n",
    "ground_truth = np.zeros(len(y_test), dtype=int)\n",
    "for i in range(len(y_test)):\n",
    "    if y_test[i][1] == 1:\n",
    "        ground_truth[i] = 1\n",
    "        \n",
    "\n",
    "fpr_cnn_12661, tpr_cnn_12661, thresholds_cnn_12661 = roc_curve(ground_truth, positive_scores)\n",
    "roc_auc_cnn_12661 = auc(fpr_cnn_12661, tpr_cnn_12661)\n",
    "lw = 2\n",
    "plt.figure()\n",
    "plt.plot(fpr_cnn_12661, tpr_cnn_12661, color='darkorange', lw=lw, label='ROC curve (AUC = %0.2f)' % roc_auc_cnn_12661, alpha=0.5)\n",
    "plt.plot([0, 1], [0, 1], color='navy', lw=lw, linestyle='--') # diagonal line\n",
    "plt.xlim([-0.05, 1.0])\n",
    "plt.ylim([0.0, 1.05])\n",
    "plt.xlabel('False Positive Rate')\n",
    "plt.ylabel('True Positive Rate')\n",
    "plt.title('Receiver Operating Characteristic')\n",
    "plt.legend(loc=\"lower right\")\n",
    "plt.show()"
   ]
  },
  {
   "cell_type": "markdown",
   "metadata": {},
   "source": [
    "# ROC (CNN trained on original dataset)"
   ]
  },
  {
   "cell_type": "code",
   "execution_count": 7,
   "metadata": {},
   "outputs": [
    {
     "name": "stdout",
     "output_type": "stream",
     "text": [
      "Accuracy:  0.7653846\n",
      "Precision:  0.6041275797373359\n",
      "Recall:  0.9070422535211268\n",
      "F1:  0.7252252252252253\n",
      "Accuracy:  0.7653846153846153\n"
     ]
    }
   ],
   "source": [
    "sess = tf.Session(config=tf.ConfigProto(device_count = {'GPU': 0}))\n",
    "# Load parameters\n",
    "saver = tf.train.Saver()\n",
    "saver.restore(sess, 'saved_model-2700/model.ckpt')\n",
    "scor, pred, accu = sess.run([scores, predictions, accuracy], feed_dict={_x: x_test, _y: y_test})\n",
    "print('Accuracy: ', accu)\n",
    "TP,TN,FP,FN = significant_test(pred, y_test)\n",
    "print(\"Precision: \", precision(TP,FP))\n",
    "print(\"Recall: \", recall(TP, FN))\n",
    "print(\"F1: \", F1(TP, FP, FN))\n",
    "print(\"Accuracy: \",acc(TP,TN,FP,FN))"
   ]
  },
  {
   "cell_type": "code",
   "execution_count": null,
   "metadata": {},
   "outputs": [],
   "source": []
  },
  {
   "cell_type": "code",
   "execution_count": 8,
   "metadata": {},
   "outputs": [
    {
     "data": {
      "image/png": "[encoded data removed]",
      "text/plain": [
       "<Figure size 432x288 with 1 Axes>"
      ]
     },
     "metadata": {
      "needs_background": "light"
     },
     "output_type": "display_data"
    }
   ],
   "source": [
    "positive_scores = np.zeros(len(scor))\n",
    "for i in range(len(scor)):\n",
    "    positive_scores[i] = sigmoid(scor[i][1] - scor[i][0])\n",
    "    \n",
    "ground_truth = np.zeros(len(y_test), dtype=int)\n",
    "for i in range(len(y_test)):\n",
    "    if y_test[i][1] == 1:\n",
    "        ground_truth[i] = 1\n",
    "        \n",
    "from sklearn.metrics import roc_curve, auc\n",
    "import matplotlib.pyplot as plt\n",
    "fpr_cnn_2700, tpr_cnn_2700, thresholds_cnn_2700 = roc_curve(ground_truth, positive_scores)\n",
    "roc_auc_cnn_2700 = auc(fpr_cnn_2700, tpr_cnn_2700)\n",
    "lw = 2\n",
    "plt.figure()\n",
    "plt.plot(fpr_cnn_2700, tpr_cnn_2700, color='darkorange', lw=lw, label='ROC curve (AUC = %0.2f)' % roc_auc_cnn_2700)\n",
    "plt.plot([0, 1], [0, 1], color='navy', lw=lw, linestyle='--') # diagonal line\n",
    "plt.xlim([-0.05, 1.0])\n",
    "plt.ylim([0.0, 1.05])\n",
    "plt.xlabel('False Positive Rate')\n",
    "plt.ylabel('True Positive Rate')\n",
    "plt.title('Receiver Operating Characteristic')\n",
    "plt.legend(loc=\"lower right\")\n",
    "plt.show()"
   ]
  },
  {
   "cell_type": "markdown",
   "metadata": {},
   "source": [
    "## Get the ROC for other ML models"
   ]
  },
  {
   "cell_type": "code",
   "execution_count": 36,
   "metadata": {},
   "outputs": [
    {
     "name": "stdout",
     "output_type": "stream",
     "text": [
      "\n",
      "logistic_1: \n",
      "Precision:  0.8730769230769231\n",
      "Recall:  0.54632972322503\n",
      "F1:  0.6720947446336046\n",
      "Accuracy:  0.574447646493756\n",
      "\n",
      "logistic_2: \n",
      "Precision:  0.9538461538461539\n",
      "Recall:  0.5248677248677248\n",
      "F1:  0.6771331058020478\n",
      "Accuracy:  0.5456292026897214\n",
      "\n",
      "DT: \n",
      "Precision:  0.925\n",
      "Recall:  0.5844471445929527\n",
      "F1:  0.7163067758749069\n",
      "Accuracy:  0.6340057636887608\n"
     ]
    }
   ],
   "source": [
    "## Logistic model 1: based on friend count\n",
    "logistic_1_targets = []\n",
    "logistic_1_scores = []\n",
    "pred = []\n",
    "with open('logistic_1.csv', newline='') as csvfile:\n",
    "    csvreader = list(csv.reader(csvfile, delimiter=','))\n",
    "    for row in csvreader[1:]:\n",
    "        logistic_1_targets.append(int(row[1]))\n",
    "        logistic_1_scores.append(float(row[2]))\n",
    "        if float(row[2]) > 0.5:\n",
    "            pred.append(1)\n",
    "        else:\n",
    "            pred.append(0)\n",
    "pred = np.array(pred)\n",
    "targets = np.array(logistic_1_targets)\n",
    "print(\"\\nlogistic_1: \")\n",
    "TP,TN,FP,FN = significant_test(pred, targets)\n",
    "print(\"Precision: \", precision(TP,FP))\n",
    "print(\"Recall: \", recall(TP, FN))\n",
    "print(\"F1: \", F1(TP, FP, FN))\n",
    "print(\"Accuracy: \",acc(TP,TN,FP,FN))\n",
    "\n",
    "## Logistic model 2: based on follower count   \n",
    "logistic_2_targets = []\n",
    "logistic_2_scores = []\n",
    "pred = []\n",
    "with open('logistic_2.csv', newline='') as csvfile:\n",
    "    csvreader = list(csv.reader(csvfile, delimiter=','))\n",
    "    for row in csvreader[1:]:\n",
    "        logistic_2_targets.append(int(row[1]))\n",
    "        logistic_2_scores.append(float(row[2]))\n",
    "        if float(row[2]) > 0.5:\n",
    "            pred.append(1)\n",
    "        else:\n",
    "            pred.append(0)\n",
    "pred = np.array(pred)\n",
    "targets = np.array(logistic_2_targets)\n",
    "print(\"\\nlogistic_2: \")\n",
    "TP,TN,FP,FN = significant_test(pred, targets)\n",
    "print(\"Precision: \", precision(TP,FP))\n",
    "print(\"Recall: \", recall(TP, FN))\n",
    "print(\"F1: \", F1(TP, FP, FN))\n",
    "print(\"Accuracy: \",acc(TP,TN,FP,FN))\n",
    "\n",
    "## DT model \n",
    "dt_targets = []\n",
    "dt_scores = []\n",
    "pred = []\n",
    "with open('treeResult.csv', newline='') as csvfile:\n",
    "    csvreader = list(csv.reader(csvfile, delimiter=','))\n",
    "    for row in csvreader[1:]:\n",
    "        dt_targets.append(int(row[1]))\n",
    "        dt_scores.append(float(row[2]))\n",
    "        if float(row[2]) > 0.5:\n",
    "            pred.append(1)\n",
    "        else:\n",
    "            pred.append(0)\n",
    "pred = np.array(pred)\n",
    "targets = np.array(dt_targets)\n",
    "print(\"\\nDT: \")\n",
    "TP,TN,FP,FN = significant_test(pred, targets)\n",
    "print(\"Precision: \", precision(TP,FP))\n",
    "print(\"Recall: \", recall(TP, FN))\n",
    "print(\"F1: \", F1(TP, FP, FN))\n",
    "print(\"Accuracy: \",acc(TP,TN,FP,FN))\n",
    "        \n",
    "        \n",
    "fpr_logistic_1, tpr_logistic_1, thresholds_logistic_1 = roc_curve(logistic_1_targets, logistic_1_scores)\n",
    "roc_auc_logistic_1 = auc(fpr_logistic_1, tpr_logistic_1)\n",
    "\n",
    "fpr_logistic_2, tpr_logistic_2, thresholds_logistic_2 = roc_curve(logistic_2_targets, logistic_2_scores)\n",
    "roc_auc_logistic_2 = auc(fpr_logistic_2, tpr_logistic_2)\n",
    "\n",
    "fpr_dt, tpr_dt, thresholds_dt = roc_curve(dt_targets, dt_scores)\n",
    "roc_auc_dt = auc(fpr_dt, tpr_dt)\n"
   ]
  },
  {
   "cell_type": "code",
   "execution_count": null,
   "metadata": {},
   "outputs": [],
   "source": []
  },
  {
   "cell_type": "markdown",
   "metadata": {},
   "source": [
    "## ROC for all"
   ]
  },
  {
   "cell_type": "code",
   "execution_count": 10,
   "metadata": {},
   "outputs": [
    {
     "data": {
      "image/png": "[encoded data removed]",
      "text/plain": [
       "<Figure size 432x288 with 1 Axes>"
      ]
     },
     "metadata": {
      "needs_background": "light"
     },
     "output_type": "display_data"
    }
   ],
   "source": [
    "lw = 1\n",
    "plt.figure()\n",
    "plt.plot(fpr_cnn_12661, tpr_cnn_12661, color='navy', lw=lw, label='CNN model-A (AUC = %0.2f)' % roc_auc_cnn_12661, alpha=1)\n",
    "plt.plot(fpr_cnn_2700, tpr_cnn_2700, color='darkorange', lw=lw, label='CNN model-B (AUC = %0.2f)' % roc_auc_cnn_2700, alpha=1)\n",
    "plt.plot(fpr_dt, tpr_dt, color='green', lw=lw, label='DT (AUC = %0.2f)' % roc_auc_dt, alpha=1)\n",
    "plt.plot(fpr_logistic_1, tpr_logistic_1, color='red', lw=lw, label='Logistic-1 (AUC = %0.2f)' % roc_auc_logistic_1, alpha=1)\n",
    "plt.plot(fpr_logistic_2, tpr_logistic_2, color='cyan', lw=lw, label='Logistic-2 (AUC = %0.2f)' % roc_auc_logistic_2, alpha=1)\n",
    "\n",
    "plt.plot([0, 1], [0, 1], color='black', lw=1, linestyle='--') # diagonal line\n",
    "plt.xlim([0, 1.0])\n",
    "plt.ylim([0.0, 1.0])\n",
    "plt.xlabel('False Positive Rate', fontsize=13)\n",
    "plt.ylabel('True Positive Rate', fontsize=13)\n",
    "plt.title('Receiver Operating Characteristic', fontsize=13)\n",
    "plt.legend(loc=\"lower right\")\n",
    "plt.savefig(\"Figures/\"+\"ROCs.png\",dpi=1000)\n",
    "\n",
    "plt.show()"
   ]
  },
  {
   "cell_type": "code",
   "execution_count": null,
   "metadata": {},
   "outputs": [],
   "source": []
  },
  {
   "cell_type": "code",
   "execution_count": null,
   "metadata": {},
   "outputs": [],
   "source": []
  },
  {
   "cell_type": "code",
   "execution_count": 11,
   "metadata": {},
   "outputs": [
    {
     "name": "stderr",
     "output_type": "stream",
     "text": [
      "C:\\Users\\yanpe\\AppData\\Local\\Programs\\Python\\Python36\\lib\\site-packages\\ipykernel_launcher.py:4: DeprecationWarning: Call to deprecated `wv` (Attribute will be removed in 4.0.0, use self instead).\n",
      "  after removing the cwd from sys.path.\n"
     ]
    }
   ],
   "source": [
    "\"\"\"use PCA to reduce the dimension of word2vec\"\"\"\n",
    "w2v_model_2 = gensim.models.KeyedVectors.load_word2vec_format(MODEL_PATH, binary=True, limit=100000)\n",
    "word_vectors = []\n",
    "for word in list(w2v_model_2.wv.vocab):\n",
    "    word_vectors.append(w2v_model_2[word])\n"
   ]
  },
  {
   "cell_type": "code",
   "execution_count": 12,
   "metadata": {},
   "outputs": [],
   "source": [
    "word_vectors = np.array(word_vectors)"
   ]
  },
  {
   "cell_type": "code",
   "execution_count": null,
   "metadata": {},
   "outputs": [],
   "source": []
  },
  {
   "cell_type": "code",
   "execution_count": 13,
   "metadata": {},
   "outputs": [
    {
     "data": {
      "text/plain": [
       "PCA(copy=True, iterated_power='auto', n_components=10, random_state=None,\n",
       "    svd_solver='auto', tol=0.0, whiten=False)"
      ]
     },
     "execution_count": 13,
     "metadata": {},
     "output_type": "execute_result"
    }
   ],
   "source": [
    "from sklearn.decomposition import PCA\n",
    "pca = PCA(n_components=10)\n",
    "pca.fit(word_vectors)\n"
   ]
  },
  {
   "cell_type": "code",
   "execution_count": 14,
   "metadata": {},
   "outputs": [
    {
     "data": {
      "text/plain": [
       "array([[-0.33070815, -1.0233363 , -0.14618483,  0.20132783,  0.13659164,\n",
       "         0.424883  ,  1.3661401 , -0.48204353, -0.07826576,  0.69179314]],\n",
       "      dtype=float32)"
      ]
     },
     "execution_count": 14,
     "metadata": {},
     "output_type": "execute_result"
    }
   ],
   "source": [
    "pca.transform([w2v_model[\"apple\"]])"
   ]
  },
  {
   "cell_type": "code",
   "execution_count": 18,
   "metadata": {},
   "outputs": [
    {
     "data": {
      "application/vnd.jupyter.widget-view+json": {
       "model_id": "a7a1d6b9b009434fb34a6ca81fd1f653",
       "version_major": 2,
       "version_minor": 0
      },
      "text/plain": [
       "HBox(children=(IntProgress(value=0, max=10), HTML(value='')))"
      ]
     },
     "metadata": {},
     "output_type": "display_data"
    },
    {
     "name": "stdout",
     "output_type": "stream",
     "text": [
      "Training dataset loaded\n",
      "Number of tweets in training dataset:  2660\n",
      "Lookup table loaded\n",
      "Data Preprocessed!\n",
      "Training dataset loaded\n",
      "Number of tweets in training dataset:  1040\n",
      "Data Preprocessed!\n",
      "\n",
      " SVM: \n",
      "Precision:  0.17073170731707318\n",
      "Recall:  0.9479166666666666\n",
      "F1:  0.2893481717011129\n",
      "Accuracy:  0.5701923076923077\n"
     ]
    },
    {
     "name": "stderr",
     "output_type": "stream",
     "text": [
      "C:\\Users\\yanpe\\AppData\\Local\\Programs\\Python\\Python36\\lib\\site-packages\\xgboost\\core.py:614: UserWarning: Use subset (sliced data) of np.ndarray is not recommended because it will generate extra copies and increase memory consumption\n",
      "  \"because it will generate extra copies and increase memory consumption\")\n"
     ]
    },
    {
     "name": "stdout",
     "output_type": "stream",
     "text": [
      "\n",
      " XGBoost+CNN: \n",
      "Precision:  0.1200750469043152\n",
      "Recall:  0.927536231884058\n",
      "F1:  0.21262458471760798\n",
      "Accuracy:  0.5442307692307692\n",
      "Training dataset loaded\n",
      "Number of tweets in training dataset:  2660\n",
      "Lookup table loaded\n",
      "Data Preprocessed!\n",
      "Training dataset loaded\n",
      "Number of tweets in training dataset:  1040\n",
      "Data Preprocessed!\n",
      "\n",
      " SVM: \n",
      "Precision:  0.1951219512195122\n",
      "Recall:  0.9369369369369369\n",
      "F1:  0.32298136645962733\n",
      "Accuracy:  0.5807692307692308\n"
     ]
    },
    {
     "name": "stderr",
     "output_type": "stream",
     "text": [
      "C:\\Users\\yanpe\\AppData\\Local\\Programs\\Python\\Python36\\lib\\site-packages\\xgboost\\core.py:614: UserWarning: Use subset (sliced data) of np.ndarray is not recommended because it will generate extra copies and increase memory consumption\n",
      "  \"because it will generate extra copies and increase memory consumption\")\n"
     ]
    },
    {
     "name": "stdout",
     "output_type": "stream",
     "text": [
      "\n",
      " XGBoost+CNN: \n",
      "Precision:  0.12195121951219512\n",
      "Recall:  0.8904109589041096\n",
      "F1:  0.21452145214521448\n",
      "Accuracy:  0.5423076923076923\n",
      "Training dataset loaded\n",
      "Number of tweets in training dataset:  2660\n",
      "Lookup table loaded\n",
      "Data Preprocessed!\n",
      "Training dataset loaded\n",
      "Number of tweets in training dataset:  1040\n",
      "Data Preprocessed!\n",
      "\n",
      " SVM: \n",
      "Precision:  0.18761726078799248\n",
      "Recall:  0.9259259259259259\n",
      "F1:  0.3120124804992199\n",
      "Accuracy:  0.5759615384615384\n"
     ]
    },
    {
     "name": "stderr",
     "output_type": "stream",
     "text": [
      "C:\\Users\\yanpe\\AppData\\Local\\Programs\\Python\\Python36\\lib\\site-packages\\xgboost\\core.py:614: UserWarning: Use subset (sliced data) of np.ndarray is not recommended because it will generate extra copies and increase memory consumption\n",
      "  \"because it will generate extra copies and increase memory consumption\")\n"
     ]
    },
    {
     "name": "stdout",
     "output_type": "stream",
     "text": [
      "\n",
      " XGBoost+CNN: \n",
      "Precision:  0.12382739212007504\n",
      "Recall:  0.9565217391304348\n",
      "F1:  0.21926910299003322\n",
      "Accuracy:  0.5480769230769231\n",
      "Training dataset loaded\n",
      "Number of tweets in training dataset:  2660\n",
      "Lookup table loaded\n",
      "Data Preprocessed!\n",
      "Training dataset loaded\n",
      "Number of tweets in training dataset:  1040\n",
      "Data Preprocessed!\n",
      "\n",
      " SVM: \n",
      "Precision:  0.2326454033771107\n",
      "Recall:  0.9323308270676691\n",
      "F1:  0.37237237237237236\n",
      "Accuracy:  0.5980769230769231\n"
     ]
    },
    {
     "name": "stderr",
     "output_type": "stream",
     "text": [
      "C:\\Users\\yanpe\\AppData\\Local\\Programs\\Python\\Python36\\lib\\site-packages\\xgboost\\core.py:614: UserWarning: Use subset (sliced data) of np.ndarray is not recommended because it will generate extra copies and increase memory consumption\n",
      "  \"because it will generate extra copies and increase memory consumption\")\n"
     ]
    },
    {
     "name": "stdout",
     "output_type": "stream",
     "text": [
      "\n",
      " XGBoost+CNN: \n",
      "Precision:  0.1294559099437148\n",
      "Recall:  0.9452054794520548\n",
      "F1:  0.22772277227722768\n",
      "Accuracy:  0.55\n",
      "Training dataset loaded\n",
      "Number of tweets in training dataset:  2660\n",
      "Lookup table loaded\n",
      "Data Preprocessed!\n",
      "Training dataset loaded\n",
      "Number of tweets in training dataset:  1040\n",
      "Data Preprocessed!\n",
      "\n",
      " SVM: \n",
      "Precision:  0.24577861163227016\n",
      "Recall:  0.9492753623188406\n",
      "F1:  0.39046199701937406\n",
      "Accuracy:  0.6067307692307692\n"
     ]
    },
    {
     "name": "stderr",
     "output_type": "stream",
     "text": [
      "C:\\Users\\yanpe\\AppData\\Local\\Programs\\Python\\Python36\\lib\\site-packages\\xgboost\\core.py:614: UserWarning: Use subset (sliced data) of np.ndarray is not recommended because it will generate extra copies and increase memory consumption\n",
      "  \"because it will generate extra copies and increase memory consumption\")\n"
     ]
    },
    {
     "name": "stdout",
     "output_type": "stream",
     "text": [
      "\n",
      " XGBoost+CNN: \n",
      "Precision:  0.1575984990619137\n",
      "Recall:  0.9438202247191011\n",
      "F1:  0.270096463022508\n",
      "Accuracy:  0.5634615384615385\n",
      "Training dataset loaded\n",
      "Number of tweets in training dataset:  2660\n",
      "Lookup table loaded\n",
      "Data Preprocessed!\n",
      "Training dataset loaded\n",
      "Number of tweets in training dataset:  1040\n",
      "Data Preprocessed!\n",
      "\n",
      " SVM: \n",
      "Precision:  0.2026266416510319\n",
      "Recall:  0.9473684210526315\n",
      "F1:  0.3338485316846986\n",
      "Accuracy:  0.5855769230769231\n"
     ]
    },
    {
     "name": "stderr",
     "output_type": "stream",
     "text": [
      "C:\\Users\\yanpe\\AppData\\Local\\Programs\\Python\\Python36\\lib\\site-packages\\xgboost\\core.py:614: UserWarning: Use subset (sliced data) of np.ndarray is not recommended because it will generate extra copies and increase memory consumption\n",
      "  \"because it will generate extra copies and increase memory consumption\")\n"
     ]
    },
    {
     "name": "stdout",
     "output_type": "stream",
     "text": [
      "\n",
      " XGBoost+CNN: \n",
      "Precision:  0.13133208255159476\n",
      "Recall:  0.8974358974358975\n",
      "F1:  0.2291325695581015\n",
      "Accuracy:  0.5471153846153847\n",
      "Training dataset loaded\n",
      "Number of tweets in training dataset:  2660\n",
      "Lookup table loaded\n",
      "Data Preprocessed!\n",
      "Training dataset loaded\n",
      "Number of tweets in training dataset:  1040\n",
      "Data Preprocessed!\n",
      "\n",
      " SVM: \n",
      "Precision:  0.19136960600375236\n",
      "Recall:  0.9622641509433962\n",
      "F1:  0.3192488262910798\n",
      "Accuracy:  0.5817307692307693\n"
     ]
    },
    {
     "name": "stderr",
     "output_type": "stream",
     "text": [
      "C:\\Users\\yanpe\\AppData\\Local\\Programs\\Python\\Python36\\lib\\site-packages\\xgboost\\core.py:614: UserWarning: Use subset (sliced data) of np.ndarray is not recommended because it will generate extra copies and increase memory consumption\n",
      "  \"because it will generate extra copies and increase memory consumption\")\n"
     ]
    },
    {
     "name": "stdout",
     "output_type": "stream",
     "text": [
      "\n",
      " XGBoost+CNN: \n",
      "Precision:  0.1425891181988743\n",
      "Recall:  0.9047619047619048\n",
      "F1:  0.24635332252836306\n",
      "Accuracy:  0.5528846153846154\n",
      "Training dataset loaded\n",
      "Number of tweets in training dataset:  2660\n",
      "Lookup table loaded\n",
      "Data Preprocessed!\n",
      "Training dataset loaded\n",
      "Number of tweets in training dataset:  1040\n",
      "Data Preprocessed!\n",
      "\n",
      " SVM: \n",
      "Precision:  0.225140712945591\n",
      "Recall:  0.967741935483871\n",
      "F1:  0.365296803652968\n",
      "Accuracy:  0.5990384615384615\n"
     ]
    },
    {
     "name": "stderr",
     "output_type": "stream",
     "text": [
      "C:\\Users\\yanpe\\AppData\\Local\\Programs\\Python\\Python36\\lib\\site-packages\\xgboost\\core.py:614: UserWarning: Use subset (sliced data) of np.ndarray is not recommended because it will generate extra copies and increase memory consumption\n",
      "  \"because it will generate extra copies and increase memory consumption\")\n"
     ]
    },
    {
     "name": "stdout",
     "output_type": "stream",
     "text": [
      "\n",
      " XGBoost+CNN: \n",
      "Precision:  0.1275797373358349\n",
      "Recall:  0.9066666666666666\n",
      "F1:  0.2236842105263158\n",
      "Accuracy:  0.5461538461538461\n",
      "Training dataset loaded\n",
      "Number of tweets in training dataset:  2660\n",
      "Lookup table loaded\n",
      "Data Preprocessed!\n",
      "Training dataset loaded\n",
      "Number of tweets in training dataset:  1040\n",
      "Data Preprocessed!\n",
      "\n",
      " SVM: \n",
      "Precision:  0.2101313320825516\n",
      "Recall:  0.9739130434782609\n",
      "F1:  0.34567901234567905\n",
      "Accuracy:  0.5923076923076923\n"
     ]
    },
    {
     "name": "stderr",
     "output_type": "stream",
     "text": [
      "C:\\Users\\yanpe\\AppData\\Local\\Programs\\Python\\Python36\\lib\\site-packages\\xgboost\\core.py:614: UserWarning: Use subset (sliced data) of np.ndarray is not recommended because it will generate extra copies and increase memory consumption\n",
      "  \"because it will generate extra copies and increase memory consumption\")\n"
     ]
    },
    {
     "name": "stdout",
     "output_type": "stream",
     "text": [
      "\n",
      " XGBoost+CNN: \n",
      "Precision:  0.13696060037523453\n",
      "Recall:  0.8588235294117647\n",
      "F1:  0.23624595469255666\n",
      "Accuracy:  0.5461538461538461\n",
      "Training dataset loaded\n",
      "Number of tweets in training dataset:  2660\n",
      "Lookup table loaded\n",
      "Data Preprocessed!\n",
      "Training dataset loaded\n",
      "Number of tweets in training dataset:  1040\n",
      "Data Preprocessed!\n",
      "\n",
      " SVM: \n",
      "Precision:  0.2176360225140713\n",
      "Recall:  0.9508196721311475\n",
      "F1:  0.35419847328244275\n",
      "Accuracy:  0.5932692307692308\n"
     ]
    },
    {
     "name": "stderr",
     "output_type": "stream",
     "text": [
      "C:\\Users\\yanpe\\AppData\\Local\\Programs\\Python\\Python36\\lib\\site-packages\\xgboost\\core.py:614: UserWarning: Use subset (sliced data) of np.ndarray is not recommended because it will generate extra copies and increase memory consumption\n",
      "  \"because it will generate extra copies and increase memory consumption\")\n"
     ]
    },
    {
     "name": "stdout",
     "output_type": "stream",
     "text": [
      "\n",
      " XGBoost+CNN: \n",
      "Precision:  0.14634146341463414\n",
      "Recall:  0.8478260869565217\n",
      "F1:  0.2496\n",
      "Accuracy:  0.5490384615384616\n",
      "\n"
     ]
    }
   ],
   "source": [
    "from tqdm import tqdm_notebook as tqdm\n",
    "import xgboost as xgb\n",
    "\n",
    "DIM_RANGE = [10,20,30,40,50,60,70,80,90,100]\n",
    "P_svm = [] \n",
    "R_svm =  []\n",
    "F1_svm = []\n",
    "ACC_svm = []\n",
    "P_xgb = [] \n",
    "R_xgb =  []\n",
    "F1_xgb = []\n",
    "ACC_xgb = []\n",
    "\n",
    "for DIM in tqdm(DIM_RANGE):\n",
    "    pca = PCA(n_components=DIM)\n",
    "    pca.fit(word_vectors)\n",
    "    \n",
    "    ''' load training dataset '''\n",
    "    TRAIN_SET_NAME = 'train_set_original'\n",
    "    TRAIN_DATA_PATH = 'dataset/'+TRAIN_SET_NAME+'.csv'\n",
    "    TWEETS_LIST = []\n",
    "    LABEL_LIST = []\n",
    "    with open(TRAIN_DATA_PATH, newline='') as csvfile:\n",
    "        csvreader = list(csv.reader(csvfile, delimiter=','))\n",
    "        for row in csvreader[1:]:\n",
    "            TWEETS_LIST.append(row[2]) # the third row is the original text\n",
    "            #TWEETS_LIST.append(row[1]) # the second row is the modified text\n",
    "\n",
    "            if row[3] == '0':\n",
    "                ''' Negative '''\n",
    "                LABEL_LIST.append([1,0])\n",
    "            else:\n",
    "                ''' Positive '''\n",
    "                LABEL_LIST.append([0,1])\n",
    "    print('Training dataset loaded')\n",
    "    print('Number of tweets in training dataset: ',len(TWEETS_LIST))\n",
    "\n",
    "    ''' load lookup table '''\n",
    "    with (open('dataset/'+TRAIN_SET_NAME+'.lookup', 'rb')) as openfile:\n",
    "        try:\n",
    "            LOADED_TABLE = pickle.load(openfile)\n",
    "            print('Lookup table loaded')\n",
    "        except EOFError:\n",
    "            print('ERROR!')\n",
    "\n",
    "    ''' preprocess data '''\n",
    "    x_train = []\n",
    "    for tweet in TWEETS_LIST:\n",
    "        tmp = []\n",
    "        for word in tweet.split(' '):\n",
    "            try:\n",
    "                vector = w2v_model[word]\n",
    "                #vector = pca.transform([vector])\n",
    "                #tmp.append(vector[0])\n",
    "                tmp.append(vector[:DIM])\n",
    "            except:\n",
    "                ''' OOV word '''\n",
    "                tmp.append(np.random.uniform(-0.5,0.5,DIM)) # random vector range:(-0.5, 0.5)\n",
    "            if len(tmp) == L:\n",
    "                break # 50 words limit!!\n",
    "        while len(tmp) < L:\n",
    "            ''' pad with zero vectors if less than 50 words '''\n",
    "            tmp.append(np.zeros(DIM)) \n",
    "        x_train.append(np.array(tmp))\n",
    "    x_train = np.array(x_train)\n",
    "    y_train = np.array(LABEL_LIST)\n",
    "\n",
    "    ''' Random shuffle the data '''\n",
    "    np.random.seed(10)\n",
    "    shuffle_indices = np.random.permutation(np.arange(len(x_train)))\n",
    "    x_train = x_train[shuffle_indices]\n",
    "    y_train = y_train[shuffle_indices]\n",
    "\n",
    "    print('Data Preprocessed!')\n",
    "\n",
    "    ''' load training dataset '''\n",
    "    TEST_DATA_PATH = 'dataset/test_set-actual-pure.csv'\n",
    "    TWEETS_LIST = []\n",
    "    LABEL_LIST = []\n",
    "    with open(TEST_DATA_PATH, newline='') as csvfile:\n",
    "        csvreader = list(csv.reader(csvfile, delimiter=','))\n",
    "        for row in csvreader[1:]:\n",
    "            TWEETS_LIST.append(row[2]) # the third row is the original text\n",
    "            #TWEETS_LIST.append(row[1]) # the second row is the modified text\n",
    "\n",
    "            if row[3] == '0':\n",
    "                ''' Negative '''\n",
    "                LABEL_LIST.append([1,0])\n",
    "            else:\n",
    "                ''' Positive '''\n",
    "                LABEL_LIST.append([0,1])\n",
    "    print('Training dataset loaded')\n",
    "    print('Number of tweets in training dataset: ',len(TWEETS_LIST))\n",
    "\n",
    "    ''' preprocess data '''\n",
    "    x_test = []\n",
    "    for tweet in TWEETS_LIST:\n",
    "        tmp = []\n",
    "        for word in tweet.split(' '):\n",
    "            try:\n",
    "                vector = w2v_model[word]\n",
    "                #vector = pca.transform([vector])\n",
    "                #tmp.append(vector[0])\n",
    "                tmp.append(vector[:DIM])\n",
    "            except:\n",
    "                ''' OOV word '''\n",
    "                tmp.append(np.random.uniform(-0.5,0.5,DIM)) # random vector range:(-0.5, 0.5)\n",
    "            if len(tmp) == L:\n",
    "                break # 50 words limit!!\n",
    "        while len(tmp) < L:\n",
    "            ''' pad with zero vectors if less than 50 words '''\n",
    "            tmp.append(np.zeros(DIM)) \n",
    "        x_test.append(np.array(tmp))\n",
    "    x_test = np.array(x_test)\n",
    "    y_test = np.array(LABEL_LIST)\n",
    "\n",
    "    ''' Random shuffle the data '''\n",
    "    np.random.seed(10)\n",
    "    shuffle_indices = np.random.permutation(np.arange(len(x_test)))\n",
    "    x_test = x_test[shuffle_indices]\n",
    "    y_test = y_test[shuffle_indices]\n",
    "\n",
    "    print('Data Preprocessed!')\n",
    "\n",
    "    x_train = x_train.reshape([-1,50*DIM])\n",
    "    x_test = x_test.reshape([-1,50*DIM])\n",
    "    y_train = y_train[:,1]\n",
    "    y_test = y_test[:,1]\n",
    "\n",
    "    \"\"\"SVM\"\"\"\n",
    "    from sklearn import svm\n",
    "    clf = svm.SVC(gamma='scale', probability=True)\n",
    "    clf.fit(x_train, y_train)\n",
    "    pred = clf.predict(x_test)\n",
    "    pred = np.array(pred)\n",
    "    targets = np.array(y_test)\n",
    "    print(\"\\n SVM: \")\n",
    "    TP,TN,FP,FN = significant_test(pred, targets)\n",
    "    print(\"Precision: \", precision(TP,FP))\n",
    "    print(\"Recall: \", recall(TP, FN))\n",
    "    print(\"F1: \", F1(TP, FP, FN))\n",
    "    print(\"Accuracy: \",acc(TP,TN,FP,FN))\n",
    "    P_svm.append(precision(TP,FP))\n",
    "    R_svm.append(recall(TP, FN))\n",
    "    F1_svm.append(F1(TP, FP, FN))\n",
    "    ACC_svm.append(acc(TP,TN,FP,FN))\n",
    "    \n",
    "    \"\"\"XGB\"\"\"\n",
    "    model = xgb.XGBRegressor(objective ='reg:squarederror', colsample_bytree = 0.5, learning_rate = 0.01, max_depth = 15, alpha = 10, n_estimators = 10)\n",
    "    model.fit(x_train, y_train)\n",
    "    scores = model.predict(x_test)\n",
    "    pred = []\n",
    "    for s in scores:\n",
    "        if s > 0.5:\n",
    "            pred.append(1)\n",
    "        else:\n",
    "            pred.append(0)\n",
    "    pred = np.array(pred)\n",
    "    targets = np.array(y_test)\n",
    "    print(\"\\n XGBoost+CNN: \")\n",
    "    TP,TN,FP,FN = significant_test(pred, targets)\n",
    "    print(\"Precision: \", precision(TP,FP))\n",
    "    print(\"Recall: \", recall(TP, FN))\n",
    "    print(\"F1: \", F1(TP, FP, FN))\n",
    "    print(\"Accuracy: \",acc(TP,TN,FP,FN))\n",
    "    P_xgb.append(precision(TP,FP))\n",
    "    R_xgb.append(recall(TP, FN))\n",
    "    F1_xgb.append(F1(TP, FP, FN))\n",
    "    ACC_xgb.append(acc(TP,TN,FP,FN))\n"
   ]
  },
  {
   "cell_type": "code",
   "execution_count": null,
   "metadata": {},
   "outputs": [],
   "source": []
  },
  {
   "cell_type": "code",
   "execution_count": 20,
   "metadata": {},
   "outputs": [
    {
     "data": {
      "image/png": "[encoded data removed]",
      "text/plain": [
       "<Figure size 432x288 with 1 Axes>"
      ]
     },
     "metadata": {
      "needs_background": "light"
     },
     "output_type": "display_data"
    }
   ],
   "source": [
    "plt.plot(DIM_RANGE, P_svm, color='green', marker=\"*\", label=\"Precision (SVM)\")\n",
    "plt.plot(DIM_RANGE, R_svm, color='blue', marker=\"*\", label=\"Recall (SVM)\")\n",
    "plt.plot(DIM_RANGE, F1_svm, color='red', marker=\"*\", label=\"F1 score (SVM)\")\n",
    "plt.plot(DIM_RANGE, ACC_svm, color='black', marker=\"*\", label=\"Accuracy (SVM)\")\n",
    "plt.plot(DIM_RANGE, P_xgb, color='green', marker=\"o\", ls=\"--\", label=\"Precision (XGBoost)\")\n",
    "plt.plot(DIM_RANGE, R_xgb, color='blue', marker=\"o\", ls=\"--\", label=\"Recall (XGBoost)\")\n",
    "plt.plot(DIM_RANGE, F1_xgb, color='red', marker=\"o\", ls=\"--\", label=\"F1 score (XGBoost)\")\n",
    "plt.plot(DIM_RANGE, ACC_xgb, color='black', marker=\"o\", ls=\"--\", label=\"Accuracy (XGBoost)\")\n",
    "plt.legend()\n",
    "#plt.ylim(top=25)\n",
    "plt.ylabel(\"Value\")\n",
    "plt.xlabel(\"Word Vector Dimension\")\n",
    "#plt.savefig(\"Figures/SVM_XGB.png\",dpi=500)\n",
    "plt.show()"
   ]
  },
  {
   "cell_type": "code",
   "execution_count": null,
   "metadata": {},
   "outputs": [],
   "source": []
  },
  {
   "cell_type": "code",
   "execution_count": 21,
   "metadata": {},
   "outputs": [
    {
     "ename": "NameError",
     "evalue": "name 'TP_xgb' is not defined",
     "output_type": "error",
     "traceback": [
      "\u001b[1;31m---------------------------------------------------------------------------\u001b[0m",
      "\u001b[1;31mNameError\u001b[0m                                 Traceback (most recent call last)",
      "\u001b[1;32m<ipython-input-21-698b235fbfd2>\u001b[0m in \u001b[0;36m<module>\u001b[1;34m\u001b[0m\n\u001b[1;32m----> 1\u001b[1;33m \u001b[0mprint\u001b[0m\u001b[1;33m(\u001b[0m\u001b[0mTP_xgb\u001b[0m\u001b[1;33m.\u001b[0m\u001b[0msum\u001b[0m\u001b[1;33m(\u001b[0m\u001b[1;33m)\u001b[0m\u001b[1;33m)\u001b[0m\u001b[1;33m\u001b[0m\u001b[1;33m\u001b[0m\u001b[0m\n\u001b[0m\u001b[0;32m      2\u001b[0m \u001b[0mprint\u001b[0m\u001b[1;33m(\u001b[0m\u001b[0mTN_xgb\u001b[0m\u001b[1;33m.\u001b[0m\u001b[0msum\u001b[0m\u001b[1;33m(\u001b[0m\u001b[1;33m)\u001b[0m\u001b[1;33m)\u001b[0m\u001b[1;33m\u001b[0m\u001b[1;33m\u001b[0m\u001b[0m\n\u001b[0;32m      3\u001b[0m \u001b[0mprint\u001b[0m\u001b[1;33m(\u001b[0m\u001b[0mFP_xgb\u001b[0m\u001b[1;33m.\u001b[0m\u001b[0msum\u001b[0m\u001b[1;33m(\u001b[0m\u001b[1;33m)\u001b[0m\u001b[1;33m)\u001b[0m\u001b[1;33m\u001b[0m\u001b[1;33m\u001b[0m\u001b[0m\n\u001b[0;32m      4\u001b[0m \u001b[0mprint\u001b[0m\u001b[1;33m(\u001b[0m\u001b[0mFN_xgb\u001b[0m\u001b[1;33m.\u001b[0m\u001b[0msum\u001b[0m\u001b[1;33m(\u001b[0m\u001b[1;33m)\u001b[0m\u001b[1;33m)\u001b[0m\u001b[1;33m\u001b[0m\u001b[1;33m\u001b[0m\u001b[0m\n",
      "\u001b[1;31mNameError\u001b[0m: name 'TP_xgb' is not defined"
     ]
    }
   ],
   "source": [
    "print(TP_xgb.sum())\n",
    "print(TN_xgb.sum())\n",
    "print(FP_xgb.sum())\n",
    "print(FN_xgb.sum())"
   ]
  },
  {
   "cell_type": "code",
   "execution_count": null,
   "metadata": {},
   "outputs": [],
   "source": []
  },
  {
   "cell_type": "code",
   "execution_count": null,
   "metadata": {},
   "outputs": [],
   "source": []
  },
  {
   "cell_type": "code",
   "execution_count": 22,
   "metadata": {},
   "outputs": [],
   "source": [
    "scores = clf.predict_proba(x_test)\n",
    "pred = clf.predict(x_test)\n",
    "fpr_svm, tpr_svm, thresholds_svm = roc_curve(y_test, scores[:,1])\n",
    "roc_auc_svm = auc(fpr_svm, tpr_svm)\n",
    "\n",
    "scores = model.predict(x_test)\n",
    "pred = []\n",
    "for s in scores:\n",
    "    if s > 0.5:\n",
    "        pred.append(1)\n",
    "    else:\n",
    "        pred.append(0)\n",
    "pred = np.array(pred)\n",
    "fpr_xgb, tpr_xgb, thresholds_xgb = roc_curve(y_test, scores)\n",
    "roc_auc_xgb = auc(fpr_xgb, tpr_xgb)"
   ]
  },
  {
   "cell_type": "code",
   "execution_count": 23,
   "metadata": {},
   "outputs": [
    {
     "name": "stdout",
     "output_type": "stream",
     "text": [
      "\n",
      " SVM: \n",
      "Precision:  0.14634146341463414\n",
      "Recall:  0.8478260869565217\n",
      "F1:  0.2496\n",
      "Accuracy:  0.5490384615384616\n"
     ]
    }
   ],
   "source": [
    "pred = np.array(pred)\n",
    "targets = np.array(y_test)\n",
    "print(\"\\n SVM: \")\n",
    "TP,TN,FP,FN = significant_test(pred, targets)\n",
    "print(\"Precision: \", precision(TP,FP))\n",
    "print(\"Recall: \", recall(TP, FN))\n",
    "print(\"F1: \", F1(TP, FP, FN))\n",
    "print(\"Accuracy: \",acc(TP,TN,FP,FN))"
   ]
  },
  {
   "cell_type": "code",
   "execution_count": 27,
   "metadata": {},
   "outputs": [
    {
     "data": {
      "text/plain": [
       "(12141, 320)"
      ]
     },
     "execution_count": 27,
     "metadata": {},
     "output_type": "execute_result"
    }
   ],
   "source": []
  },
  {
   "cell_type": "code",
   "execution_count": 24,
   "metadata": {},
   "outputs": [],
   "source": [
    "\"\"\"load deep feature\"\"\"\n",
    "x_train_df = np.load(\"x_train_df.npy\")\n",
    "y_train_df = np.load(\"y_train_df.npy\")\n",
    "x_test_df = np.load(\"x_test_df.npy\")\n",
    "y_test_df = np.load(\"y_test_df.npy\")"
   ]
  },
  {
   "cell_type": "code",
   "execution_count": 28,
   "metadata": {},
   "outputs": [
    {
     "name": "stdout",
     "output_type": "stream",
     "text": [
      "\n",
      " SVM+CNN: \n",
      "Precision:  0.874296435272045\n",
      "Recall:  0.802065404475043\n",
      "F1:  0.8366247755834829\n",
      "Accuracy:  0.825\n"
     ]
    }
   ],
   "source": [
    "\"\"\"CNN (deep feature) + SVM\"\"\"\n",
    "from sklearn import svm\n",
    "\n",
    "clf = svm.SVC(gamma='scale', probability=True)\n",
    "clf.fit(x_train_df, y_train_df[:,1])\n",
    "\n",
    "scores = clf.predict_proba(x_test_df)\n",
    "pred = clf.predict(x_test_df)\n",
    "\n",
    "fpr_svm_cnn, tpr_svm_cnn, thresholds_svm_cnn = roc_curve(y_test_df[:,1], scores[:,1])\n",
    "roc_auc_svm_cnn = auc(fpr_svm_cnn, tpr_svm_cnn)\n",
    "\n",
    "pred = np.array(pred)\n",
    "targets = np.array(y_test_df)\n",
    "print(\"\\n SVM+CNN: \")\n",
    "TP,TN,FP,FN = significant_test(pred, targets)\n",
    "print(\"Precision: \", precision(TP,FP))\n",
    "print(\"Recall: \", recall(TP, FN))\n",
    "print(\"F1: \", F1(TP, FP, FN))\n",
    "print(\"Accuracy: \",acc(TP,TN,FP,FN))"
   ]
  },
  {
   "cell_type": "code",
   "execution_count": 17,
   "metadata": {},
   "outputs": [
    {
     "data": {
      "text/plain": [
       "'\\noutput_file = open(\"train_df.csv\",\"w\")\\nfor i in range(len(x_train_df)):\\n    line = \"\" + str(y_train_df[i,1]) + \" \"\\n    for j in range(len(x_train_df[i])):\\n        line = line + str(j) + \":\" + str(x_train_df[i,j])\\n    output_file.write(line+\"\\n\")\\noutput_file.close()\\n\\noutput_file = open(\"test_df.csv\",\"w\")\\nfor i in range(len(x_test_df)):\\n    line = \"\" + str(y_test_df[i,1]) + \" \"\\n    for j in range(len(x_test_df[i])):\\n        line = line + str(j) + \":\" + str(x_test_df[i,j])\\n    output_file.write(line+\"\\n\")\\noutput_file.close()\\n'"
      ]
     },
     "execution_count": 17,
     "metadata": {},
     "output_type": "execute_result"
    }
   ],
   "source": [
    "\"\"\"prepare the deepfeature data for XGBoost\"\"\"\n",
    "\"\"\"\n",
    "output_file = open(\"train_df.csv\",\"w\")\n",
    "for i in range(len(x_train_df)):\n",
    "    line = \"\" + str(y_train_df[i,1]) + \" \"\n",
    "    for j in range(len(x_train_df[i])):\n",
    "        line = line + str(j) + \":\" + str(x_train_df[i,j])\n",
    "    output_file.write(line+\"\\n\")\n",
    "output_file.close()\n",
    "\n",
    "output_file = open(\"test_df.csv\",\"w\")\n",
    "for i in range(len(x_test_df)):\n",
    "    line = \"\" + str(y_test_df[i,1]) + \" \"\n",
    "    for j in range(len(x_test_df[i])):\n",
    "        line = line + str(j) + \":\" + str(x_test_df[i,j])\n",
    "    output_file.write(line+\"\\n\")\n",
    "output_file.close()\n",
    "\"\"\""
   ]
  },
  {
   "cell_type": "code",
   "execution_count": 29,
   "metadata": {},
   "outputs": [
    {
     "name": "stderr",
     "output_type": "stream",
     "text": [
      "C:\\Users\\yanpe\\AppData\\Local\\Programs\\Python\\Python36\\lib\\site-packages\\xgboost\\core.py:614: UserWarning: Use subset (sliced data) of np.ndarray is not recommended because it will generate extra copies and increase memory consumption\n",
      "  \"because it will generate extra copies and increase memory consumption\")\n"
     ]
    },
    {
     "name": "stdout",
     "output_type": "stream",
     "text": [
      "\n",
      " XGBoost+CNN: \n",
      "Precision:  0.9061913696060038\n",
      "Recall:  0.7815533980582524\n",
      "F1:  0.8392701998262381\n",
      "Accuracy:  0.8221153846153846\n"
     ]
    }
   ],
   "source": [
    "\"\"\"CNN (deep feature) + XGBoost\"\"\"\n",
    "import xgboost as xgb\n",
    "#dtrain = xgb.DMatrix('train_df.csv?format=csv&label_column=0')\n",
    "#dtest = xgb.DMatrix('test_df.csv?format=csv&label_column=0')\n",
    "\n",
    "model = xgb.XGBRegressor(objective ='reg:squarederror', colsample_bytree = 0.5, learning_rate = 0.01, max_depth = 15, alpha = 10, n_estimators = 200)\n",
    "model.fit(x_train_df, y_train_df[:,1])\n",
    "\n",
    "scores = model.predict(x_test_df)\n",
    "pred = []\n",
    "for s in scores:\n",
    "    if s > 0.5:\n",
    "        pred.append(1)\n",
    "    else:\n",
    "        pred.append(0)\n",
    "pred = np.array(pred)\n",
    "\n",
    "fpr_xgb_cnn, tpr_xgb_cnn, thresholds_xgb_cnn = roc_curve(y_test_df[:,1], scores)\n",
    "roc_auc_xgb_cnn = auc(fpr_xgb_cnn, tpr_xgb_cnn)\n",
    "\n",
    "pred = np.array(pred)\n",
    "targets = np.array(y_test_df[:,1])\n",
    "print(\"\\n XGBoost+CNN: \")\n",
    "TP,TN,FP,FN = significant_test(pred, targets)\n",
    "print(\"Precision: \", precision(TP,FP))\n",
    "print(\"Recall: \", recall(TP, FN))\n",
    "print(\"F1: \", F1(TP, FP, FN))\n",
    "print(\"Accuracy: \",acc(TP,TN,FP,FN))"
   ]
  },
  {
   "cell_type": "code",
   "execution_count": null,
   "metadata": {},
   "outputs": [],
   "source": []
  },
  {
   "cell_type": "code",
   "execution_count": 42,
   "metadata": {},
   "outputs": [
    {
     "name": "stdout",
     "output_type": "stream",
     "text": [
      "Bert A: \n",
      "Precision:  1.0\n",
      "Recall:  1.0\n",
      "F1:  1.0\n",
      "Accuracy:  1.0\n",
      "Bert B: \n",
      "Precision:  1.0\n",
      "Recall:  1.0\n",
      "F1:  1.0\n",
      "Accuracy:  1.0\n"
     ]
    }
   ],
   "source": [
    "## BERT model-A \n",
    "bertA_targets = []\n",
    "bertA_scores = []\n",
    "pred = []\n",
    "with open('bert_A.csv', newline='') as csvfile:\n",
    "    csvreader = list(csv.reader(csvfile, delimiter=','))\n",
    "    for row in csvreader[1:]:\n",
    "        bertA_targets.append(int(row[1]))\n",
    "        bertA_scores.append(float(row[2]))\n",
    "        if float(row[2]) > 0.5:\n",
    "            pred.append(1)\n",
    "        else:\n",
    "            pred.append(0)\n",
    "pred = np.array(pred)\n",
    "targets = np.array(bertA_targets)\n",
    "print(\"Bert A: \")\n",
    "TP,TN,FP,FN = significant_test(pred, targets)\n",
    "print(\"Precision: \", precision(TP,FP))\n",
    "print(\"Recall: \", recall(TP, FN))\n",
    "print(\"F1: \", F1(TP, FP, FN))\n",
    "print(\"Accuracy: \",acc(TP,TN,FP,FN))\n",
    "fpr_bertA, tpr_bertA, thresholds_bertA = roc_curve(bertA_targets, bertA_scores)\n",
    "roc_auc_bertA = auc(fpr_bertA, tpr_bertA)\n",
    "\n",
    "\n",
    "## BERT model-B\n",
    "bertB_targets = []\n",
    "bertB_scores = []\n",
    "pred = []\n",
    "with open('bert_B.csv', newline='') as csvfile:\n",
    "    csvreader = list(csv.reader(csvfile, delimiter=','))\n",
    "    for row in csvreader[1:]:\n",
    "        bertB_targets.append(int(row[1]))\n",
    "        bertB_scores.append(float(row[2]))\n",
    "        if float(row[2]) > 0.5:\n",
    "            pred.append(1)\n",
    "        else:\n",
    "            pred.append(0)\n",
    "pred = np.array(pred)\n",
    "targets = np.array(bertB_targets)\n",
    "print(\"Bert B: \")\n",
    "TP,TN,FP,FN = significant_test(pred, targets)\n",
    "print(\"Precision: \", precision(TP,FP))\n",
    "print(\"Recall: \", recall(TP, FN))\n",
    "print(\"F1: \", F1(TP, FP, FN))\n",
    "print(\"Accuracy: \",acc(TP,TN,FP,FN))\n",
    "fpr_bertB, tpr_bertB, thresholds_bertB = roc_curve(bertB_targets, bertB_scores)\n",
    "roc_auc_bertB = auc(fpr_bertB, tpr_bertB)\n"
   ]
  },
  {
   "cell_type": "code",
   "execution_count": null,
   "metadata": {},
   "outputs": [],
   "source": []
  },
  {
   "cell_type": "code",
   "execution_count": 39,
   "metadata": {
    "scrolled": true
   },
   "outputs": [
    {
     "data": {
      "image/png": "[encoded data removed]",
      "text/plain": [
       "<Figure size 432x288 with 1 Axes>"
      ]
     },
     "metadata": {
      "needs_background": "light"
     },
     "output_type": "display_data"
    }
   ],
   "source": [
    "lw = 1\n",
    "plt.figure()\n",
    "#plt.plot(fpr_xgb_cnn, tpr_xgb_cnn, color='purple', lw=lw, label='CNN model-A + XGB (AUC = %0.2f)' % roc_auc_xgb_cnn, alpha=1)\n",
    "plt.plot(fpr_bertA, tpr_bertA, color='purple', linestyle='--', lw=lw, label='BERT model-A (AUC = %0.2f)' % roc_auc_bertA, alpha=1)\n",
    "plt.plot(fpr_bertB, tpr_bertB, color='purple', linestyle='--', lw=lw, label='BERT model-B (AUC = %0.2f)' % roc_auc_bertB, alpha=1)\n",
    "plt.plot(fpr_cnn_12661, tpr_cnn_12661, color='navy', lw=lw, label='CNN model-A (AUC = %0.2f)' % roc_auc_cnn_12661, alpha=1)\n",
    "plt.plot(fpr_cnn_2700, tpr_cnn_2700, color='darkorange', lw=lw, label='CNN model-B (AUC = %0.2f)' % roc_auc_cnn_2700, alpha=1)\n",
    "plt.plot(fpr_svm, tpr_svm, color='black', lw=lw, label='SVM (AUC = %0.2f)' % roc_auc_svm, alpha=1)\n",
    "plt.plot(fpr_xgb, tpr_xgb, color='lime', lw=lw, label='XGBoost (AUC = %0.2f)' % roc_auc_xgb, alpha=1)\n",
    "#plt.plot(fpr_svm_cnn, tpr_svm_cnn, color='lime', lw=lw, label='CNN model-A + SVM (AUC = %0.2f)' % roc_auc_svm_cnn, alpha=1)\n",
    "plt.plot(fpr_dt, tpr_dt, color='green', lw=lw, label='DT (AUC = %0.2f)' % roc_auc_dt, alpha=1)\n",
    "plt.plot(fpr_logistic_1, tpr_logistic_1, color='red', lw=lw, label='Logistic-1 (AUC = %0.2f)' % roc_auc_logistic_1, alpha=1)\n",
    "plt.plot(fpr_logistic_2, tpr_logistic_2, color='cyan', lw=lw, label='Logistic-2 (AUC = %0.2f)' % roc_auc_logistic_2, alpha=1)\n",
    "\n",
    "plt.plot([0, 1], [0, 1], color='black', lw=1, linestyle='--') # diagonal line\n",
    "plt.xlim([0, 1.0])\n",
    "plt.ylim([0.0, 1.0])\n",
    "plt.xlabel('False Positive Rate', fontsize=13)\n",
    "plt.ylabel('True Positive Rate', fontsize=13)\n",
    "plt.title('Receiver Operating Characteristic', fontsize=13)\n",
    "plt.legend(loc=\"lower right\")\n",
    "#plt.savefig(\"Figures/\"+\"ROCs.png\",dpi=600)\n",
    "\n",
    "plt.show()"
   ]
  },
  {
   "cell_type": "code",
   "execution_count": null,
   "metadata": {},
   "outputs": [],
   "source": []
  }
 ],
 "metadata": {
  "kernelspec": {
   "display_name": "Python 3",
   "language": "python",
   "name": "python3"
  },
  "language_info": {
   "codemirror_mode": {
    "name": "ipython",
    "version": 3
   },
   "file_extension": ".py",
   "mimetype": "text/x-python",
   "name": "python",
   "nbconvert_exporter": "python",
   "pygments_lexer": "ipython3",
   "version": "3.6.7rc1"
  }
 },
 "nbformat": 4,
 "nbformat_minor": 4
}
